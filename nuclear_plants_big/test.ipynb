{
 "cells": [
  {
   "cell_type": "code",
   "execution_count": 1,
   "id": "e15de779",
   "metadata": {},
   "outputs": [],
   "source": [
    "import findspark \n",
    "import pyspark\n",
    "import math\n",
    "import numpy as np \n",
    "import pandas as pd\n",
    "import matplotlib.pyplot as plt\n",
    "import statistics as stats\n",
    "from pyspark.sql.functions import max , min , mean \n",
    "import pyspark.sql.functions as func \n",
    "from pyspark.sql import SparkSession\n",
    "spark = SparkSession.builder.getOrCreate()\n",
    "findspark.init()\n"
   ]
  },
  {
   "cell_type": "code",
   "execution_count": 2,
   "id": "0c78b280",
   "metadata": {},
   "outputs": [],
   "source": [
    "df = spark.read.csv(\"nuclear_plants_small_dataset.csv\", inferSchema=True , header = True )\n",
    "# df.where(df.Status == \"Abnormal\").show(10, truncate = 20)\n",
    "# df.sort_values(\"Power_range_sensor_1\")\n",
    "# df.printSchema()"
   ]
  },
  {
   "cell_type": "code",
   "execution_count": 3,
   "id": "48a4a3af",
   "metadata": {},
   "outputs": [],
   "source": [
    "from pyspark.ml import Pipeline\n",
    "from pyspark.ml.classification import DecisionTreeClassifier\n",
    "from pyspark.ml.feature import StringIndexer, VectorIndexer\n",
    "from pyspark.ml.evaluation import MulticlassClassificationEvaluator"
   ]
  },
  {
   "cell_type": "code",
   "execution_count": 196,
   "id": "64fbf926",
   "metadata": {},
   "outputs": [
    {
     "name": "stdout",
     "output_type": "stream",
     "text": [
      "+------------+\n",
      "|Status_index|\n",
      "+------------+\n",
      "|         1.0|\n",
      "+------------+\n",
      "only showing top 1 row\n",
      "\n"
     ]
    }
   ],
   "source": [
    "indexer = StringIndexer(inputCol=\"Status\", outputCol=\"Status_index\").fit(df)\n",
    "df_ind = indexer.transform(df)\n",
    "df_ind.select(\"Status_index\").show(1)"
   ]
  },
  {
   "cell_type": "code",
   "execution_count": 23,
   "id": "4157ef43",
   "metadata": {},
   "outputs": [],
   "source": [
    "# df_ind.select(\"Status_index\",\"Status\").show()"
   ]
  },
  {
   "cell_type": "code",
   "execution_count": 28,
   "id": "802d4cf6",
   "metadata": {},
   "outputs": [],
   "source": [
    "from pyspark.ml.feature import VectorAssembler "
   ]
  },
  {
   "cell_type": "code",
   "execution_count": 31,
   "id": "b1c4b96a",
   "metadata": {},
   "outputs": [
    {
     "data": {
      "text/plain": [
       "['Status',\n",
       " 'Power_range_sensor_1',\n",
       " 'Power_range_sensor_2',\n",
       " 'Power_range_sensor_3 ',\n",
       " 'Power_range_sensor_4',\n",
       " 'Pressure _sensor_1',\n",
       " 'Pressure _sensor_2',\n",
       " 'Pressure _sensor_3',\n",
       " 'Pressure _sensor_4',\n",
       " 'Vibration_sensor_1',\n",
       " 'Vibration_sensor_2',\n",
       " 'Vibration_sensor_3',\n",
       " 'Vibration_sensor_4',\n",
       " 'Status_index']"
      ]
     },
     "execution_count": 31,
     "metadata": {},
     "output_type": "execute_result"
    }
   ],
   "source": [
    "df_ind.columns"
   ]
  },
  {
   "cell_type": "code",
   "execution_count": 36,
   "id": "3019404b",
   "metadata": {},
   "outputs": [],
   "source": [
    "assembler = VectorAssembler(inputCols = ['Power_range_sensor_1','Power_range_sensor_2','Power_range_sensor_3 ','Power_range_sensor_4','Pressure _sensor_1','Pressure _sensor_2','Pressure _sensor_3','Pressure _sensor_4','Vibration_sensor_1','Vibration_sensor_2','Vibration_sensor_3','Vibration_sensor_4'],outputCol=\"features\")\n"
   ]
  },
  {
   "cell_type": "code",
   "execution_count": 38,
   "id": "f71695b6",
   "metadata": {},
   "outputs": [
    {
     "data": {
      "text/plain": [
       "VectorAssembler_aab0272c5748"
      ]
     },
     "execution_count": 38,
     "metadata": {},
     "output_type": "execute_result"
    }
   ],
   "source": [
    "assembler"
   ]
  },
  {
   "cell_type": "code",
   "execution_count": 218,
   "id": "8e110878",
   "metadata": {},
   "outputs": [
    {
     "data": {
      "text/plain": [
       "VectorAssembler_aab0272c5748"
      ]
     },
     "execution_count": 218,
     "metadata": {},
     "output_type": "execute_result"
    }
   ],
   "source": [
    "assembler"
   ]
  },
  {
   "cell_type": "code",
   "execution_count": 197,
   "id": "217b9d26",
   "metadata": {},
   "outputs": [
    {
     "name": "stdout",
     "output_type": "stream",
     "text": [
      "+----------------------------------------------------------------------------------------+------------+\n",
      "|                                                                                features|status_index|\n",
      "+----------------------------------------------------------------------------------------+------------+\n",
      "|   [4.5044,0.7443,6.34,1.9052,29.5315,0.8647,2.2044,6.048,14.4659,21.648,15.3429,1.2186]|         1.0|\n",
      "|[4.4284,0.9073,5.6433,1.6232,27.5032,1.4704,1.9929,5.9856,20.8356,0.0646,14.8813,7.3483]|         1.0|\n",
      "|  [4.5291,1.0199,6.113,1.0565,26.4271,1.9247,1.942,6.7162,5.3358,11.0779,25.0914,9.2408]|         1.0|\n",
      "|   [5.1727,1.0007,7.8589,0.2765,25.1576,2.609,2.9234,6.7485,1.9017,1.8463,28.664,4.0157]|         1.0|\n",
      "|  [5.2258,0.6125,7.9504,0.1547,24.0765,3.2113,4.4563,5.8411,0.5077,9.37,34.8122,13.4966]|         1.0|\n",
      "+----------------------------------------------------------------------------------------+------------+\n",
      "only showing top 5 rows\n",
      "\n"
     ]
    }
   ],
   "source": [
    "output = assembler.transform(df_ind)\n",
    "output.select(\"features\",\"status_index\").show(5,truncate =100)"
   ]
  },
  {
   "cell_type": "code",
   "execution_count": 51,
   "id": "03ffb9d1",
   "metadata": {},
   "outputs": [
    {
     "name": "stdout",
     "output_type": "stream",
     "text": [
      "+----------------------------------------------------------------------------------------+------------+\n",
      "|                                                                                features|Status_index|\n",
      "+----------------------------------------------------------------------------------------+------------+\n",
      "|   [4.5044,0.7443,6.34,1.9052,29.5315,0.8647,2.2044,6.048,14.4659,21.648,15.3429,1.2186]|         1.0|\n",
      "|[4.4284,0.9073,5.6433,1.6232,27.5032,1.4704,1.9929,5.9856,20.8356,0.0646,14.8813,7.3483]|         1.0|\n",
      "|  [4.5291,1.0199,6.113,1.0565,26.4271,1.9247,1.942,6.7162,5.3358,11.0779,25.0914,9.2408]|         1.0|\n",
      "|   [5.1727,1.0007,7.8589,0.2765,25.1576,2.609,2.9234,6.7485,1.9017,1.8463,28.664,4.0157]|         1.0|\n",
      "|  [5.2258,0.6125,7.9504,0.1547,24.0765,3.2113,4.4563,5.8411,0.5077,9.37,34.8122,13.4966]|         1.0|\n",
      "+----------------------------------------------------------------------------------------+------------+\n",
      "only showing top 5 rows\n",
      "\n"
     ]
    }
   ],
   "source": [
    "output.select(\"features\",\"Status_index\").show(5,truncate=90)"
   ]
  },
  {
   "cell_type": "code",
   "execution_count": 53,
   "id": "b6a4ed03",
   "metadata": {},
   "outputs": [],
   "source": [
    "model_df = output.select(\"features\",\"Status_index\")"
   ]
  },
  {
   "cell_type": "code",
   "execution_count": 219,
   "id": "4cd86b6e",
   "metadata": {},
   "outputs": [
    {
     "name": "stdout",
     "output_type": "stream",
     "text": [
      "+--------------------+------------+\n",
      "|            features|Status_index|\n",
      "+--------------------+------------+\n",
      "|[4.5044,0.7443,6....|         1.0|\n",
      "|[4.4284,0.9073,5....|         1.0|\n",
      "|[4.5291,1.0199,6....|         1.0|\n",
      "|[5.1727,1.0007,7....|         1.0|\n",
      "|[5.2258,0.6125,7....|         1.0|\n",
      "|[4.8834,0.5786,5....|         1.0|\n",
      "|[5.7422,0.8862,5....|         1.0|\n",
      "|[6.5076,0.5438,7....|         1.0|\n",
      "|[5.625,0.0403,7.7...|         1.0|\n",
      "|[4.9942,0.4092,6....|         1.0|\n",
      "|[5.9079,0.9229,5....|         1.0|\n",
      "|[6.4215,0.5978,5....|         1.0|\n",
      "|[5.9253,0.2161,6....|         1.0|\n",
      "|[5.5783,0.6262,6....|         1.0|\n",
      "|[5.495,0.4971,5.2...|         1.0|\n",
      "|[5.6332,0.5182,4....|         1.0|\n",
      "|[5.8438,1.1902,5....|         1.0|\n",
      "|[5.4053,1.8027,5....|         1.0|\n",
      "|[5.2075,1.4804,5....|         1.0|\n",
      "|[6.0489,0.9576,5....|         1.0|\n",
      "+--------------------+------------+\n",
      "only showing top 20 rows\n",
      "\n"
     ]
    }
   ],
   "source": [
    "model_df.show()"
   ]
  },
  {
   "cell_type": "code",
   "execution_count": 58,
   "id": "c5b2e1d1",
   "metadata": {},
   "outputs": [],
   "source": [
    "#decision tree  \n",
    "training_ds , testing_ds = model_df.randomSplit([0.7,0.3])\n"
   ]
  },
  {
   "cell_type": "code",
   "execution_count": 61,
   "id": "ec18921b",
   "metadata": {},
   "outputs": [
    {
     "data": {
      "text/plain": [
       "700"
      ]
     },
     "execution_count": 61,
     "metadata": {},
     "output_type": "execute_result"
    }
   ],
   "source": [
    "training_ds.count()"
   ]
  },
  {
   "cell_type": "code",
   "execution_count": 63,
   "id": "ae3f6524",
   "metadata": {},
   "outputs": [
    {
     "data": {
      "text/plain": [
       "296"
      ]
     },
     "execution_count": 63,
     "metadata": {},
     "output_type": "execute_result"
    }
   ],
   "source": [
    "testing_ds.count()"
   ]
  },
  {
   "cell_type": "code",
   "execution_count": 64,
   "id": "413669c1",
   "metadata": {},
   "outputs": [],
   "source": [
    "from pyspark.ml.classification import DecisionTreeClassifier\n",
    "from pyspark.ml.evaluation import MulticlassClassificationEvaluator\n"
   ]
  },
  {
   "cell_type": "code",
   "execution_count": 201,
   "id": "d9e3c5ed",
   "metadata": {},
   "outputs": [],
   "source": [
    "classifier_ds = DecisionTreeClassifier(labelCol= \"Status_index\").fit(training_ds)"
   ]
  },
  {
   "cell_type": "code",
   "execution_count": 221,
   "id": "a9f93339",
   "metadata": {},
   "outputs": [],
   "source": [
    "predictions_ds = classifier_ds.transform(testing_ds)\n"
   ]
  },
  {
   "cell_type": "code",
   "execution_count": 210,
   "id": "72398bd2",
   "metadata": {},
   "outputs": [
    {
     "name": "stdout",
     "output_type": "stream",
     "text": [
      "+----------+------------+-------------+-----------+----------+\n",
      "|  features|Status_index|rawPrediction|probability|prediction|\n",
      "+----------+------------+-------------+-----------+----------+\n",
      "|[0.1083...|         0.0|   [60.0,2...| [0.7317...|       0.0|\n",
      "+----------+------------+-------------+-----------+----------+\n",
      "only showing top 1 row\n",
      "\n"
     ]
    }
   ],
   "source": [
    "predictions_ds.show(1,truncate = 10)\n",
    "# \"Status_index\",\"prediction\""
   ]
  },
  {
   "cell_type": "code",
   "execution_count": 80,
   "id": "5a283861",
   "metadata": {},
   "outputs": [],
   "source": [
    "accuracy_ds = MulticlassClassificationEvaluator(labelCol = \"Status_index\" , metricName = \"accuracy\").evaluate(predictions_ds)"
   ]
  },
  {
   "cell_type": "code",
   "execution_count": 92,
   "id": "c09cced7",
   "metadata": {},
   "outputs": [
    {
     "name": "stdout",
     "output_type": "stream",
     "text": [
      "78.04054054054053 %\n"
     ]
    }
   ],
   "source": [
    "accuracy_percentage = accuracy_ds * 100\n",
    "print(accuracy_percentage,\"%\")\n"
   ]
  },
  {
   "cell_type": "code",
   "execution_count": 84,
   "id": "7d05eb51",
   "metadata": {},
   "outputs": [],
   "source": [
    "precision_ds = MulticlassClassificationEvaluator(labelCol = \"Status_index\" , metricName = \"weightedPrecision\").evaluate(predictions_ds)"
   ]
  },
  {
   "cell_type": "code",
   "execution_count": 93,
   "id": "f46e8fce",
   "metadata": {},
   "outputs": [
    {
     "name": "stdout",
     "output_type": "stream",
     "text": [
      "79.05110010322598 %\n"
     ]
    }
   ],
   "source": [
    "precision_percentage = precision_ds * 100\n",
    "print(precision_percentage,\"%\")"
   ]
  },
  {
   "cell_type": "code",
   "execution_count": 116,
   "id": "768a82e1",
   "metadata": {},
   "outputs": [],
   "source": [
    "import numpy as np\n",
    "import matplotlib.pyplot as plt\n",
    "import pandas as pd"
   ]
  },
  {
   "cell_type": "code",
   "execution_count": 117,
   "id": "47bcbc31",
   "metadata": {},
   "outputs": [],
   "source": [
    "dataset = pd.read_csv('Position_Salaries.csv')\n",
    "X = dataset.iloc[:, 1:-1].values\n",
    "y = dataset.iloc[:, -1].values"
   ]
  },
  {
   "cell_type": "code",
   "execution_count": 132,
   "id": "b49afa71",
   "metadata": {},
   "outputs": [
    {
     "name": "stdout",
     "output_type": "stream",
     "text": [
      "[[-0.72004253]\n",
      " [-0.70243757]\n",
      " [-0.66722767]\n",
      " [-0.59680786]\n",
      " [-0.49117815]\n",
      " [-0.35033854]\n",
      " [-0.17428902]\n",
      " [ 0.17781001]\n",
      " [ 0.88200808]\n",
      " [ 2.64250325]]\n"
     ]
    }
   ],
   "source": [
    "\n",
    "y = y.reshape(len(y),1)\n",
    "print(y)\n"
   ]
  },
  {
   "cell_type": "code",
   "execution_count": 122,
   "id": "787518d0",
   "metadata": {},
   "outputs": [],
   "source": [
    "from sklearn.preprocessing import StandardScaler\n",
    "sc_X = StandardScaler()\n",
    "sc_y = StandardScaler()\n",
    "X = sc_X.fit_transform(X)\n",
    "y = sc_y.fit_transform(y)"
   ]
  },
  {
   "cell_type": "code",
   "execution_count": 130,
   "id": "5be52c46",
   "metadata": {},
   "outputs": [
    {
     "data": {
      "text/plain": [
       "SVR()"
      ]
     },
     "execution_count": 130,
     "metadata": {},
     "output_type": "execute_result"
    }
   ],
   "source": [
    "from sklearn.svm import SVR\n",
    "regressor = SVR(kernel = 'rbf')\n",
    "regressor.fit(X, y.ravel())"
   ]
  },
  {
   "cell_type": "code",
   "execution_count": 162,
   "id": "9788d76c",
   "metadata": {},
   "outputs": [],
   "source": [
    "import numpy as np\n",
    "import matplotlib.pyplot as plt\n",
    "import pandas as pd"
   ]
  },
  {
   "cell_type": "code",
   "execution_count": 163,
   "id": "7824f04b",
   "metadata": {},
   "outputs": [],
   "source": [
    "dataset = pd.read_csv('copy.csv')"
   ]
  },
  {
   "cell_type": "code",
   "execution_count": 193,
   "id": "667181dc",
   "metadata": {},
   "outputs": [
    {
     "data": {
      "text/plain": [
       "(996, 14)"
      ]
     },
     "execution_count": 193,
     "metadata": {},
     "output_type": "execute_result"
    }
   ],
   "source": [
    "dataset.shape"
   ]
  },
  {
   "cell_type": "code",
   "execution_count": null,
   "id": "2356495c",
   "metadata": {},
   "outputs": [],
   "source": []
  },
  {
   "cell_type": "code",
   "execution_count": 211,
   "id": "b5bae46c",
   "metadata": {},
   "outputs": [],
   "source": [
    "X = dataset.iloc[:, [1, 2]].values\n",
    "y = dataset.iloc[:, -1].values\n"
   ]
  },
  {
   "cell_type": "code",
   "execution_count": 212,
   "id": "d860c357",
   "metadata": {},
   "outputs": [],
   "source": [
    "from sklearn.model_selection import train_test_split\n",
    "X_train, X_test, y_train, y_test = train_test_split(X, y, test_size = 0.25, random_state = 0)"
   ]
  },
  {
   "cell_type": "code",
   "execution_count": 213,
   "id": "5792107e",
   "metadata": {},
   "outputs": [],
   "source": [
    "from sklearn.preprocessing import StandardScaler\n",
    "sc = StandardScaler()\n",
    "X_train = sc.fit_transform(X_train)\n",
    "X_test = sc.transform(X_test)"
   ]
  },
  {
   "cell_type": "code",
   "execution_count": 214,
   "id": "7341c9c3",
   "metadata": {},
   "outputs": [
    {
     "data": {
      "text/plain": [
       "SVC(random_state=0)"
      ]
     },
     "execution_count": 214,
     "metadata": {},
     "output_type": "execute_result"
    }
   ],
   "source": [
    "from sklearn.svm import SVC\n",
    "classifier = SVC(kernel = 'rbf', random_state = 0)\n",
    "classifier.fit(X_train, y_train)"
   ]
  },
  {
   "cell_type": "code",
   "execution_count": 215,
   "id": "c02957cc",
   "metadata": {},
   "outputs": [],
   "source": [
    "y_pred = classifier.predict(X_test)"
   ]
  },
  {
   "cell_type": "code",
   "execution_count": 216,
   "id": "a001a93c",
   "metadata": {},
   "outputs": [
    {
     "name": "stdout",
     "output_type": "stream",
     "text": [
      "[[83 44]\n",
      " [43 79]]\n"
     ]
    },
    {
     "data": {
      "text/plain": [
       "0.6506024096385542"
      ]
     },
     "execution_count": 216,
     "metadata": {},
     "output_type": "execute_result"
    }
   ],
   "source": [
    "from sklearn.metrics import confusion_matrix, accuracy_score\n",
    "cm = confusion_matrix(y_test, y_pred)\n",
    "print(cm)\n",
    "accuracy_score(y_test,y_pred)"
   ]
  },
  {
   "cell_type": "code",
   "execution_count": 170,
   "id": "3e5be2d6",
   "metadata": {},
   "outputs": [
    {
     "name": "stderr",
     "output_type": "stream",
     "text": [
      "*c* argument looks like a single numeric RGB or RGBA sequence, which should be avoided as value-mapping will have precedence in case its length matches with *x* & *y*.  Please use the *color* keyword-argument or provide a 2D array with a single row if you intend to specify the same RGB or RGBA value for all points.\n",
      "*c* argument looks like a single numeric RGB or RGBA sequence, which should be avoided as value-mapping will have precedence in case its length matches with *x* & *y*.  Please use the *color* keyword-argument or provide a 2D array with a single row if you intend to specify the same RGB or RGBA value for all points.\n"
     ]
    },
    {
     "data": {
      "image/png": "[encoded data removed]",
      "text/plain": [
       "<Figure size 432x288 with 1 Axes>"
      ]
     },
     "metadata": {
      "needs_background": "light"
     },
     "output_type": "display_data"
    }
   ],
   "source": [
    "from matplotlib.colors import ListedColormap\n",
    "X_set, y_set = X_test, y_test\n",
    "X1, X2 = np.meshgrid(np.arange(start = X_set[:, 0].min() - 1, stop = X_set[:, 0].max() + 1, step = 0.01),\n",
    "                     np.arange(start = X_set[:, 1].min() - 1, stop = X_set[:, 1].max() + 1, step = 0.01))\n",
    "plt.contourf(X1, X2, classifier.predict(np.array([X1.ravel(), X2.ravel()]).T).reshape(X1.shape),\n",
    "             alpha = 0.75, cmap = ListedColormap(('red', 'green')))\n",
    "plt.xlim(X1.min(), X1.max())\n",
    "plt.ylim(X2.min(), X2.max())\n",
    "for i, j in enumerate(np.unique(y_set)):\n",
    "    plt.scatter(X_set[y_set == j, 0], X_set[y_set == j, 1],\n",
    "                c = ListedColormap(('red', 'green'))(i), label = j)\n",
    "plt.title('SVM ()')\n",
    "plt.xlabel('Features')\n",
    "plt.ylabel('Estimated Status')\n",
    "plt.legend()\n",
    "plt.show()"
   ]
  },
  {
   "cell_type": "code",
   "execution_count": null,
   "id": "c4625a61",
   "metadata": {},
   "outputs": [],
   "source": []
  }
 ],
 "metadata": {
  "kernelspec": {
   "display_name": "Python 3 (ipykernel)",
   "language": "python",
   "name": "python3"
  },
  "language_info": {
   "codemirror_mode": {
    "name": "ipython",
    "version": 3
   },
   "file_extension": ".py",
   "mimetype": "text/x-python",
   "name": "python",
   "nbconvert_exporter": "python",
   "pygments_lexer": "ipython3",
   "version": "3.8.12"
  }
 },
 "nbformat": 4,
 "nbformat_minor": 5
}
